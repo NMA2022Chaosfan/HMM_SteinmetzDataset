{
  "cells": [
    {
      "cell_type": "code",
      "execution_count": 1,
      "metadata": {
        "colab": {
          "base_uri": "https://localhost:8080/"
        },
        "id": "8qnPrZn6tD2n",
        "outputId": "522c25d7-754c-45b2-a310-9181d590a16c"
      },
      "outputs": [
        {
          "output_type": "stream",
          "name": "stdout",
          "text": [
            "Looking in indexes: https://pypi.org/simple, https://us-python.pkg.dev/colab-wheels/public/simple/\n",
            "Collecting git+https://github.com/lindermanlab/ssm.git\n",
            "  Cloning https://github.com/lindermanlab/ssm.git to /tmp/pip-req-build-a_0qgm_9\n",
            "  Running command git clone -q https://github.com/lindermanlab/ssm.git /tmp/pip-req-build-a_0qgm_9\n",
            "Requirement already satisfied: future in /usr/local/lib/python3.7/dist-packages (from ssm==0.0.1) (0.16.0)\n",
            "Requirement already satisfied: numpy in /usr/local/lib/python3.7/dist-packages (from ssm==0.0.1) (1.21.6)\n",
            "Requirement already satisfied: scipy in /usr/local/lib/python3.7/dist-packages (from ssm==0.0.1) (1.7.3)\n",
            "Requirement already satisfied: matplotlib in /usr/local/lib/python3.7/dist-packages (from ssm==0.0.1) (3.2.2)\n",
            "Requirement already satisfied: numba in /usr/local/lib/python3.7/dist-packages (from ssm==0.0.1) (0.51.2)\n",
            "Requirement already satisfied: scikit-learn in /usr/local/lib/python3.7/dist-packages (from ssm==0.0.1) (1.0.2)\n",
            "Requirement already satisfied: tqdm in /usr/local/lib/python3.7/dist-packages (from ssm==0.0.1) (4.64.0)\n",
            "Requirement already satisfied: autograd in /usr/local/lib/python3.7/dist-packages (from ssm==0.0.1) (1.4)\n",
            "Requirement already satisfied: seaborn in /usr/local/lib/python3.7/dist-packages (from ssm==0.0.1) (0.11.2)\n",
            "Requirement already satisfied: python-dateutil>=2.1 in /usr/local/lib/python3.7/dist-packages (from matplotlib->ssm==0.0.1) (2.8.2)\n",
            "Requirement already satisfied: cycler>=0.10 in /usr/local/lib/python3.7/dist-packages (from matplotlib->ssm==0.0.1) (0.11.0)\n",
            "Requirement already satisfied: kiwisolver>=1.0.1 in /usr/local/lib/python3.7/dist-packages (from matplotlib->ssm==0.0.1) (1.4.4)\n",
            "Requirement already satisfied: pyparsing!=2.0.4,!=2.1.2,!=2.1.6,>=2.0.1 in /usr/local/lib/python3.7/dist-packages (from matplotlib->ssm==0.0.1) (3.0.9)\n",
            "Requirement already satisfied: typing-extensions in /usr/local/lib/python3.7/dist-packages (from kiwisolver>=1.0.1->matplotlib->ssm==0.0.1) (4.1.1)\n",
            "Requirement already satisfied: six>=1.5 in /usr/local/lib/python3.7/dist-packages (from python-dateutil>=2.1->matplotlib->ssm==0.0.1) (1.15.0)\n",
            "Requirement already satisfied: setuptools in /usr/local/lib/python3.7/dist-packages (from numba->ssm==0.0.1) (57.4.0)\n",
            "Requirement already satisfied: llvmlite<0.35,>=0.34.0.dev0 in /usr/local/lib/python3.7/dist-packages (from numba->ssm==0.0.1) (0.34.0)\n",
            "Requirement already satisfied: threadpoolctl>=2.0.0 in /usr/local/lib/python3.7/dist-packages (from scikit-learn->ssm==0.0.1) (3.1.0)\n",
            "Requirement already satisfied: joblib>=0.11 in /usr/local/lib/python3.7/dist-packages (from scikit-learn->ssm==0.0.1) (1.1.0)\n",
            "Requirement already satisfied: pandas>=0.23 in /usr/local/lib/python3.7/dist-packages (from seaborn->ssm==0.0.1) (1.3.5)\n",
            "Requirement already satisfied: pytz>=2017.3 in /usr/local/lib/python3.7/dist-packages (from pandas>=0.23->seaborn->ssm==0.0.1) (2022.1)\n",
            "Building wheels for collected packages: ssm\n",
            "  Building wheel for ssm (setup.py) ... \u001b[?25l\u001b[?25hdone\n",
            "  Created wheel for ssm: filename=ssm-0.0.1-cp37-cp37m-linux_x86_64.whl size=402678 sha256=50debe425c4e0b22648b58f9cc9e5d99acea197b2923e2572076933d8244e734\n",
            "  Stored in directory: /tmp/pip-ephem-wheel-cache-2cuzq3b9/wheels/c8/04/4e/bf90d9e04d0342f45dc1103b47678ce7e7ba1dbc97d431d254\n",
            "Successfully built ssm\n",
            "Installing collected packages: ssm\n",
            "Successfully installed ssm-0.0.1\n"
          ]
        }
      ],
      "source": [
        "!pip install git+https://github.com/lindermanlab/ssm.git\n",
        "import ssm\n",
        "import numpy as np\n",
        "import matplotlib.pyplot as plt\n"
      ]
    },
    {
      "cell_type": "code",
      "source": [
        "# @title Figure settings\n",
        "from matplotlib import rcParams\n",
        "\n",
        "rcParams['figure.figsize'] = [20, 4]\n",
        "rcParams['font.size'] = 15\n",
        "rcParams['axes.spines.top'] = False\n",
        "rcParams['axes.spines.right'] = False\n",
        "rcParams['figure.autolayout'] = True\n",
        "# @title Data retrieval\n",
        "import os, requests\n",
        "\n",
        "fname = []\n",
        "for j in range(3):\n",
        "  fname.append('steinmetz_part%d.npz'%j)\n",
        "url = [\"https://osf.io/agvxh/download\"]\n",
        "url.append(\"https://osf.io/uv3mw/download\")\n",
        "url.append(\"https://osf.io/ehmw2/download\")\n",
        "\n",
        "for j in range(len(url)):\n",
        "  if not os.path.isfile(fname[j]):\n",
        "    try:\n",
        "      r = requests.get(url[j])\n",
        "    except requests.ConnectionError:\n",
        "      print(\"!!! Failed to download data !!!\")\n",
        "    else:\n",
        "      if r.status_code != requests.codes.ok:\n",
        "        print(\"!!! Failed to download data !!!\")\n",
        "      else:\n",
        "        with open(fname[j], \"wb\") as fid:\n",
        "          fid.write(r.content)"
      ],
      "metadata": {
        "id": "mXoQ4ErjuZ2C"
      },
      "execution_count": 2,
      "outputs": []
    },
    {
      "cell_type": "code",
      "execution_count": 3,
      "metadata": {
        "colab": {
          "base_uri": "https://localhost:8080/"
        },
        "id": "5bHVg36QtD2p",
        "outputId": "7820c532-ff91-471f-d018-6a5872818195"
      },
      "outputs": [
        {
          "output_type": "execute_result",
          "data": {
            "text/plain": [
              "(39,)"
            ]
          },
          "metadata": {},
          "execution_count": 3
        }
      ],
      "source": [
        "# get all 39 sessions\n",
        "alldat = np.array([])\n",
        "for j in range(3):\n",
        "  alldat = np.hstack((alldat,\n",
        "                      np.load('steinmetz_part%d.npz'%j,\n",
        "                              allow_pickle=True)['dat']))\n",
        "                              \n",
        "alldat.shape"
      ]
    },
    {
      "cell_type": "code",
      "execution_count": 36,
      "metadata": {
        "colab": {
          "base_uri": "https://localhost:8080/"
        },
        "id": "ASGyJrpttD2s",
        "outputId": "2bef5508-36ca-4b93-8681-524c40e3fe25"
      },
      "outputs": [
        {
          "output_type": "stream",
          "name": "stdout",
          "text": [
            "keys: 31 dict_keys(['spks', 'wheel', 'pupil', 'response', 'response_time', 'bin_size', 'stim_onset', 'contrast_right', 'contrast_left', 'brain_area', 'feedback_time', 'feedback_type', 'gocue', 'mouse_name', 'date_exp', 'trough_to_peak', 'active_trials', 'contrast_left_passive', 'contrast_right_passive', 'spks_passive', 'pupil_passive', 'wheel_passive', 'prev_reward', 'ccf', 'ccf_axes', 'cellid_orig', 'reaction_time', 'face', 'face_passive', 'licks', 'licks_passive'])\n",
            "\n",
            "mouse_name: Cori\n",
            "date_exp: 2016-12-14\n",
            "brain_area: (734,) ['ACA' 'CA3' 'DG' 'LS' 'MOs' 'SUB' 'VISp' 'root']\n",
            "\n",
            "bin_size: 0.01\n",
            "stim_onset: 0.5\n",
            "spks(neurons*trials*time_bins): (734, 214, 250) [0 1 2 3 4 5 6]\n",
            "\n",
            "gocue: (214, 1)\n",
            "contrast_right: (214,) [0.   0.25 0.5  1.  ]\n",
            "contrast_left: (214,) [0.   0.25 0.5  1.  ]\n",
            "feedback_time: (214, 1)\n",
            "feedback_type: (214,) [-1.  1.]\n",
            "response_time: (214, 1)\n",
            "response: (214,) [-1.  0.  1.]\n",
            "\n",
            "active_trials: (364,)\n",
            "reaction_time: (214, 2)\n",
            "\n",
            "pupil: (3, 214, 250)\n",
            "wheel: (1, 214, 250)\n"
          ]
        }
      ],
      "source": [
        "dat = alldat[0]   # a dict\n",
        "print('keys:', len(dat.keys()), dat.keys())\n",
        "\n",
        "print('')\n",
        "print('mouse_name:', dat['mouse_name'])\n",
        "print('date_exp:', dat['date_exp'])\n",
        "print('brain_area:', dat['brain_area'].shape, np.unique(dat['brain_area']))\n",
        "\n",
        "print('')\n",
        "print('bin_size:', dat['bin_size'])\n",
        "print('stim_onset:', dat['stim_onset'])\n",
        "print('spks(neurons*trials*time_bins):', dat['spks'].shape, np.unique(dat['spks']))\n",
        "\n",
        "print('')\n",
        "print('gocue:', dat['gocue'].shape)\n",
        "print('contrast_right:', dat['contrast_right'].shape, np.unique(dat['contrast_right']))\n",
        "print('contrast_left:', dat['contrast_left'].shape, np.unique(dat['contrast_left']))\n",
        "print('feedback_time:', dat['feedback_time'].shape)\n",
        "print('feedback_type:', dat['feedback_type'].shape, np.unique(dat['feedback_type']))\n",
        "print('response_time:', dat['response_time'].shape)\n",
        "print('response:', dat['response'].shape, np.unique(dat['response']))\n",
        "\n",
        "print('')\n",
        "print('active_trials:', dat['active_trials'].shape)\n",
        "print('reaction_time:', dat['reaction_time'].shape)\n",
        "\n",
        "print('')\n",
        "print('pupil:', dat['pupil'].shape)\n",
        "print('wheel:', dat['wheel'].shape)"
      ]
    },
    {
      "cell_type": "code",
      "source": [
        "trials_count = dat['spks'].shape[1]"
      ],
      "metadata": {
        "id": "polhaSqKXOzv"
      },
      "execution_count": 37,
      "outputs": []
    },
    {
      "cell_type": "code",
      "execution_count": 38,
      "metadata": {
        "id": "n-UsIn6NtD2t"
      },
      "outputs": [],
      "source": [
        "brain_areas = dat['brain_area']\n",
        "bin_size = dat['bin_size']\n",
        "stim_onset = dat['stim_onset']\n",
        "gocue = dat['gocue'] + stim_onset\n",
        "feedback_time = dat['feedback_time'] + stim_onset\n",
        "response_time = dat['response_time'] + stim_onset\n",
        "neural_activity = dat['spks']\n",
        "\n",
        "# stim_onset = int(stim_onset/bin_size)\n",
        "# response_time = response_time/bin_size"
      ]
    },
    {
      "cell_type": "code",
      "execution_count": 39,
      "metadata": {
        "colab": {
          "base_uri": "https://localhost:8080/",
          "height": 574
        },
        "id": "cM_MZNtltD2v",
        "outputId": "d96d40d2-5a25-44f8-c471-eee9c297bde3"
      },
      "outputs": [
        {
          "output_type": "display_data",
          "data": {
            "text/plain": [
              "<Figure size 1080x576 with 1 Axes>"
            ],
            "image/png": "[encoded data removed]"
          },
          "metadata": {
            "needs_background": "light"
          }
        }
      ],
      "source": [
        "# Display a spike raster of the image\n",
        "\n",
        "n_trial = 1\n",
        "\n",
        "plt.figure(figsize=(15,8))\n",
        "plt.imshow(neural_activity[:,n_trial,:], aspect='auto', cmap='gray')\n",
        "#plt.axis('off')\n",
        "\n",
        "# Label the different phases of the trial movement activity\n",
        "time_bins = neural_activity.shape[2]\n",
        "\n",
        "plt.axvline(x=stim_onset/bin_size, color='red', linewidth=2, label='stim_onset')\n",
        "plt.axvline(x=gocue[n_trial]/bin_size, color='green', linewidth=2, label='go_cue')\n",
        "plt.axvline(x=feedback_time[n_trial]/bin_size, color='blue', linewidth=2, label='feedback_time')\n",
        "plt.axvline(x=response_time[n_trial]/bin_size, color='yellow', linewidth=2, label='response_time')\n",
        "plt.ylabel(\"Unit\")\n",
        "plt.xlabel(\"Time/10ms\")\n",
        "\n",
        "unique, count=np.unique(brain_areas,return_counts=True)\n",
        "yticklabels = unique\n",
        "yticklabels_idx = np.cumsum(count)\n",
        "plt.yticks(yticklabels_idx, yticklabels, fontsize=8)\n",
        "plt.legend()\n",
        "plt.tight_layout\n",
        "plt.title(f'all_neuron for trial {n_trial}')\n",
        "plt.show()"
      ]
    },
    {
      "cell_type": "code",
      "execution_count": 40,
      "metadata": {
        "id": "kET_kHS6tD2y"
      },
      "outputs": [],
      "source": [
        "# Display a spike raster of the image\n",
        "\n",
        "def raster_trial(neural_activity, n_trial, stim_onset, gocue, feedback_time, response_time, bin_size, brain_areas):\n",
        "\n",
        "    plt.figure(figsize=(15,8))\n",
        "    plt.imshow(neural_activity[:,n_trial,:], aspect='auto', cmap='gray')\n",
        "    #plt.axis('off')\n",
        "\n",
        "    # Label the different phases of the trial movement activity\n",
        "    time_bins = neural_activity.shape[2]\n",
        "\n",
        "    plt.axvline(x=stim_onset/bin_size, color='red', linewidth=2, label='stim_onset')\n",
        "    plt.axvline(x=gocue[n_trial]/bin_size, color='green', linewidth=2, label='go_cue')\n",
        "    plt.axvline(x=feedback_time[n_trial]/bin_size, color='blue', linewidth=2, label='feedback_time')\n",
        "    plt.axvline(x=response_time[n_trial]/bin_size, color='yellow', linewidth=2, label='response_time')\n",
        "    plt.ylabel(\"Unit\")\n",
        "    plt.xlabel(\"Time/10ms\")\n",
        "\n",
        "    num_states = 4\n",
        "    num_neurons = neural_activity.shape[0]\n",
        "    neural_activity_try = neural_activity[:, n_trial, :]\n",
        "    test_hmm = ssm.HMM(num_states, num_neurons, observations=\"poisson\")\n",
        "    test_hmm.fit(neural_activity_try.T)\n",
        "    zhat = test_hmm.most_likely_states(neural_activity_try.T)\n",
        "\n",
        "    plt.plot(zhat/4*neural_activity.shape[0], linewidth=0.6)\n",
        "\n",
        "    unique, count=np.unique(brain_areas,return_counts=True)\n",
        "    yticklabels = unique\n",
        "    yticklabels_idx = np.cumsum(count)\n",
        "    plt.yticks(yticklabels_idx, yticklabels, fontsize=8)\n",
        "    plt.legend()\n",
        "    plt.tight_layout\n",
        "    plt.title(f'all_neuron for trial {n_trial}')\n",
        "    plt.show()\n",
        "\n",
        "n_trial = 300"
      ]
    },
    {
      "cell_type": "code",
      "execution_count": 41,
      "metadata": {
        "colab": {
          "base_uri": "https://localhost:8080/"
        },
        "id": "lBUZffU0tD20",
        "outputId": "1374ec11-b574-48bd-983d-9c88da254deb"
      },
      "outputs": [
        {
          "output_type": "execute_result",
          "data": {
            "text/plain": [
              "(array([0., 2., 3., 4.]), array([178, 177, 113, 266]))"
            ]
          },
          "metadata": {},
          "execution_count": 41
        }
      ],
      "source": [
        "regions = [\"vis ctx\", \"thal\", \"hipp\", \"other ctx\", \"midbrain\", \"basal ganglia\", \"cortical subplate\", \"other\"]\n",
        "region_colors = ['blue', 'red', 'green', 'darkblue', 'violet', 'lightblue', 'orange', 'gray']\n",
        "brain_groups = [[\"VISa\", \"VISam\", \"VISl\", \"VISp\", \"VISpm\", \"VISrl\"],  # visual cortex\n",
        "                [\"VPL\"],#, \"CL\", \"LD\", \"LGd\", \"LH\", \"LP\", \"MD\", \"MG\", \"PO\", \"POL\", \"PT\", \"RT\", \"SPF\", \"TH\", \"VAL\", \"VPM\"], # thalamus\n",
        "                [\"CA\", \"CA1\", \"CA2\", \"CA3\", \"DG\", \"SUB\", \"POST\"],  # hippocampal\n",
        "                [\"MOp\", \"MOs\"],  # motor cortex\n",
        "                [\"RSP\"],  # retrosplenial\n",
        "                [\"ACB\", \"CP\", \"GPe\", \"LS\", \"LSc\", \"LSr\", \"MS\", \"OT\", \"SNr\", \"SI\"],  # basal ganglia\n",
        "                [\"BLA\", \"BMA\", \"EP\", \"EPd\", \"MEA\"],  # cortical subplate\n",
        "                [\"VISp\"],\n",
        "                [\"VISam\"]\n",
        "                ]\n",
        "\n",
        "nareas = 4  # only the top 4 regions are in this particular mouse\n",
        "NN = len(dat['brain_area'])  # number of neurons\n",
        "barea = nareas * np.ones(NN, )  # last one is \"other\"\n",
        "for j in range(nareas):\n",
        "  barea[np.isin(dat['brain_area'], brain_groups[j])] = j  # assign a number to each region\n",
        "\n",
        "np.unique(barea, return_counts=True)"
      ]
    },
    {
      "cell_type": "code",
      "execution_count": 42,
      "metadata": {
        "colab": {
          "base_uri": "https://localhost:8080/"
        },
        "id": "l5_fbfu-tD2z",
        "outputId": "61bfd59c-e929-46c6-c893-1a1f1f4fe463"
      },
      "outputs": [
        {
          "output_type": "stream",
          "name": "stdout",
          "text": [
            "['ACA' 'CA3' 'DG' 'LS' 'MOs' 'SUB' 'VISp' 'root'] [109  68  34 139 113  75 178  18]\n"
          ]
        }
      ],
      "source": [
        "unique, count=np.unique(brain_areas,return_counts=True)\n",
        "data_count=dict(zip(unique,count))\n",
        "data_count\n",
        "print(unique, count)"
      ]
    },
    {
      "cell_type": "code",
      "source": [
        "trials_count = dat['spks'].shape[1]\n",
        "\n",
        "response = dat['response']  # right - nogo - left (-1, 0, 1)\n",
        "vis_right = dat['contrast_right']  # 0 - low - high\n",
        "vis_left = dat['contrast_left']  # 0 - low - high\n",
        "vis_stim = vis_left - vis_right # right - nogo - left\n",
        "# trials types by response\n",
        "resp_left = response > 0\n",
        "resp_none = response == 0\n",
        "resp_right = response < 0\n",
        "# trials types by visual stimuli\n",
        "vis_left = vis_stim > 0\n",
        "vis_none = vis_stim == 0\n",
        "vis_right = vis_stim < 0\n",
        "# trials types by result\n",
        "correct_left = np.logical_and(vis_left > 0, response > 0)\n",
        "correct_none = np.logical_and(vis_left == 0, response == 0)\n",
        "correct_right = np.logical_and(resp_right, vis_right)\n",
        "correct_id = np.logical_or(correct_left, correct_none)\n",
        "correct_id = np.logical_or(correct_id, correct_right)\n",
        "#incorrect_id = np.logical_not(correct_id)\n",
        "\n",
        "\n",
        "vis_ctx_spikes = dat['spks'][barea==0]\n",
        "mot_ctx_spikes = dat['spks'][barea==3]\n",
        "rsp_ctx_spikes = dat['spks'][barea==4]\n",
        "thal_ctx_spikes = dat['spks'][barea==1]"
      ],
      "metadata": {
        "id": "ruDm6esixuJJ"
      },
      "execution_count": 43,
      "outputs": []
    },
    {
      "cell_type": "code",
      "source": [
        "chosen_idx = correct_id#correct_right"
      ],
      "metadata": {
        "id": "D9zpJbYZMLWg"
      },
      "execution_count": 44,
      "outputs": []
    },
    {
      "cell_type": "code",
      "source": [
        "trials_limited = dat['spks'][:,chosen_idx,:][barea==7]\n",
        "\n",
        "\n"
      ],
      "metadata": {
        "id": "JAMa3WaZn6v8"
      },
      "execution_count": 45,
      "outputs": []
    },
    {
      "cell_type": "code",
      "execution_count": 46,
      "metadata": {
        "id": "FdvPYWWPtD24"
      },
      "outputs": [],
      "source": [
        "def fit_hmm(trials_data, num_states):\n",
        "\n",
        "  num_neurons = trials_data.shape[0]\n",
        "  num_trials = trials_data.shape[1]\n",
        "  time_bins = trials_data.shape[2]\n",
        "  trials_concatenated = trials_data.reshape(num_neurons, num_trials*time_bins)\n",
        "  num_states = 3\n",
        "  test_hmm = ssm.HMM(num_states, num_neurons, observations=\"poisson\")\n",
        "  test_hmm.fit(trials_concatenated.T, method=\"em\", num_iters=300, init_method =\"kmeans\")\n",
        "  mls = test_hmm.most_likely_states(trials_concatenated.T)\n",
        "\n",
        "  return mls"
      ]
    },
    {
      "cell_type": "code",
      "source": [
        "num_states = 3\n",
        "vis_states = fit_hmm(dat['spks'][:,chosen_idx,:][barea==0], num_states)\n",
        "#vpl_states = fit_hmm(dat['spks'][:,chosen_idx,:][barea==1], num_states)\n",
        "motor_states = fit_hmm(dat['spks'][:,chosen_idx,:][barea==3], num_states)\n"
      ],
      "metadata": {
        "colab": {
          "base_uri": "https://localhost:8080/",
          "height": 81,
          "referenced_widgets": [
            "59b50ba959e1433f994234759b05bee0",
            "0cc0a9ed9c1a41f6a02edc7fee301f0f",
            "4ab38090cae54a77ad5dbc10b75ef38b",
            "1f5c180b1ca440799ca851405cc50557",
            "5339bf4b15154d94854d47e97374f752",
            "0d80ed5c8e7b46f9ba3e4b39a21034bb",
            "1ce2740ae7bf4821a91f16d78d97e202",
            "6c48fc317eeb4df8ac040c1973282aa5",
            "901dc6b0589445b3871b672ecfe4592f",
            "db654cd1b63f4bb3a87fc576d37ad0bb",
            "bed188eb2145482bb2799542f53d28e6",
            "ab877886ca2a4531b57e116a85b1e355",
            "134d81c4decd489e9055c6341c25ff05",
            "34b0911172104e329bc456a11539e898",
            "e24c27ecd1274ebeb8ebe6cf19a64888",
            "988bf1f0604d451e9ec81daaf34a3f00",
            "93490433c570496580d007b71f1f69d6",
            "28c31041237d4a29843b7c7a03d8cb4d",
            "e6c85f429185459cb835d849ce044a62",
            "26b52973de62423982a7ae317e1b9365",
            "5d80b23fd6a14dd59a1de4b56e10e035",
            "555fcebc368d4f9db5133d5532b9ccc6"
          ]
        },
        "id": "Bbsw-K4548Lv",
        "outputId": "ff1c13bb-97ae-4b2b-c0d3-d7426907d308"
      },
      "execution_count": 48,
      "outputs": [
        {
          "output_type": "display_data",
          "data": {
            "text/plain": [
              "  0%|          | 0/300 [00:00<?, ?it/s]"
            ],
            "application/vnd.jupyter.widget-view+json": {
              "version_major": 2,
              "version_minor": 0,
              "model_id": "59b50ba959e1433f994234759b05bee0"
            }
          },
          "metadata": {}
        },
        {
          "output_type": "display_data",
          "data": {
            "text/plain": [
              "  0%|          | 0/300 [00:00<?, ?it/s]"
            ],
            "application/vnd.jupyter.widget-view+json": {
              "version_major": 2,
              "version_minor": 0,
              "model_id": "ab877886ca2a4531b57e116a85b1e355"
            }
          },
          "metadata": {}
        }
      ]
    },
    {
      "cell_type": "code",
      "source": [
        ""
      ],
      "metadata": {
        "id": "WfCAr3nOOpkH"
      },
      "execution_count": null,
      "outputs": []
    },
    {
      "cell_type": "code",
      "source": [
        "movement = []\n",
        "for idx, val in enumerate(chosen_idx):\n",
        "  if val:\n",
        "    movement =  np.append(movement, dat['wheel'][0][idx])"
      ],
      "metadata": {
        "id": "eW6MzyTWtRxC"
      },
      "execution_count": 49,
      "outputs": []
    },
    {
      "cell_type": "code",
      "source": [
        "    time_bins_n = 250\n",
        "    shift = 0\n",
        "    plt.plot(vis_states*20+100)\n",
        "    plt.plot(motor_states*20+200)\n",
        "    for i, val in enumerate(chosen_idx):\n",
        "      if val:\n",
        "        plt.axvline(shift, color='orange', linewidth=2)\n",
        "        shift += time_bins_n\n",
        "        plt.axvline(x=stim_onset/bin_size+shift, color='red', linewidth=2, label='stim_onset')\n",
        "        plt.axvline(x=gocue[i]/bin_size+shift, color='green', linewidth=2, label='go_cue')\n",
        "        plt.axvline(x=feedback_time[i]/bin_size+shift, color='blue', linewidth=2, label='feedback_time')\n",
        "        plt.axvline(x=response_time[i]/bin_size+shift, color='yellow', linewidth=2, label='response_time')\n",
        "\n",
        "\n",
        "    plt.plot(movement*5)\n",
        "    plt.tight_layout\n",
        "    #plt.title(f'num of states {num_states}, trial {n_trial}, area {regions[i]}')\n",
        "    plt.xlim(3000, 4000)\n",
        "    plt.show()"
      ],
      "metadata": {
        "colab": {
          "base_uri": "https://localhost:8080/",
          "height": 287
        },
        "id": "mDBArWvmUMX0",
        "outputId": "8221aeb8-5f1b-40e3-9337-b9dce3e1bcb4"
      },
      "execution_count": 57,
      "outputs": [
        {
          "output_type": "display_data",
          "data": {
            "text/plain": [
              "<Figure size 1440x288 with 1 Axes>"
            ],
            "image/png": "[encoded data removed]"
          },
          "metadata": {
            "needs_background": "light"
          }
        }
      ]
    },
    {
      "cell_type": "code",
      "source": [
        "print(zhat[16000:16250])"
      ],
      "metadata": {
        "id": "pwR5dUa5iJgr"
      },
      "execution_count": null,
      "outputs": []
    },
    {
      "cell_type": "code",
      "source": [
        "  plt.tight_layout\n",
        "  plt.hist(motor_states[movement>0])\n",
        "  plt.show()\n",
        "  plt.hist(motor_states[movement==0])\n",
        "  plt.show()\n",
        "  plt.hist(motor_states[movement<0])\n",
        "  plt.show()"
      ],
      "metadata": {
        "id": "7u0N7_Ep5BT7",
        "colab": {
          "base_uri": "https://localhost:8080/",
          "height": 826
        },
        "outputId": "aa2d9f09-3e3a-48ee-d7e6-982da020628a"
      },
      "execution_count": 58,
      "outputs": [
        {
          "output_type": "display_data",
          "data": {
            "text/plain": [
              "<Figure size 1440x288 with 1 Axes>"
            ],
            "image/png": "[encoded data removed]"
          },
          "metadata": {
            "needs_background": "light"
          }
        },
        {
          "output_type": "display_data",
          "data": {
            "text/plain": [
              "<Figure size 1440x288 with 1 Axes>"
            ],
            "image/png": "[encoded data removed]"
          },
          "metadata": {
            "needs_background": "light"
          }
        },
        {
          "output_type": "display_data",
          "data": {
            "text/plain": [
              "<Figure size 1440x288 with 1 Axes>"
            ],
            "image/png": "[encoded data removed]"
          },
          "metadata": {
            "needs_background": "light"
          }
        }
      ]
    },
    {
      "cell_type": "code",
      "source": [
        "learned_transition_mat = test_hmm.transitions.transition_matrix\n",
        "\n",
        "\n",
        "im = plt.imshow(learned_transition_mat, cmap='gray')\n",
        "plt.title(\"Learned Transition Matrix\")\n",
        "\n",
        "\n",
        "plt.show()\n"
      ],
      "metadata": {
        "id": "jBWgHll-FSON"
      },
      "execution_count": null,
      "outputs": []
    },
    {
      "cell_type": "code",
      "source": [
        "for idx,dat_ in enumerate(alldat):\n",
        "  motor_neurons = len(dat_['brain_area'][dat_['brain_area'] =='MOp']) + len(dat_['brain_area'][dat_['brain_area'] =='MOs'])\n",
        "  vpl_neurons = len(dat_['brain_area'][dat_['brain_area'] =='VPL'])\n",
        "  print('session no: ', idx)\n",
        "  print('motor neurons number:', motor_neurons)\n",
        "  print('VPL ', vpl_neurons)"
      ],
      "metadata": {
        "colab": {
          "base_uri": "https://localhost:8080/"
        },
        "id": "pLxSYRTFKvfK",
        "outputId": "c06168ce-3e95-47fe-ca37-27416a7b6657"
      },
      "execution_count": 35,
      "outputs": [
        {
          "output_type": "stream",
          "name": "stdout",
          "text": [
            "session no:  0\n",
            "motor neurons number: 113\n",
            "VPL  0\n",
            "session no:  1\n",
            "motor neurons number: 0\n",
            "VPL  0\n",
            "session no:  2\n",
            "motor neurons number: 0\n",
            "VPL  0\n",
            "session no:  3\n",
            "motor neurons number: 92\n",
            "VPL  72\n",
            "session no:  4\n",
            "motor neurons number: 29\n",
            "VPL  0\n",
            "session no:  5\n",
            "motor neurons number: 0\n",
            "VPL  0\n",
            "session no:  6\n",
            "motor neurons number: 0\n",
            "VPL  106\n",
            "session no:  7\n",
            "motor neurons number: 112\n",
            "VPL  0\n",
            "session no:  8\n",
            "motor neurons number: 0\n",
            "VPL  73\n",
            "session no:  9\n",
            "motor neurons number: 0\n",
            "VPL  0\n",
            "session no:  10\n",
            "motor neurons number: 447\n",
            "VPL  0\n",
            "session no:  11\n",
            "motor neurons number: 6\n",
            "VPL  0\n",
            "session no:  12\n",
            "motor neurons number: 46\n",
            "VPL  0\n",
            "session no:  13\n",
            "motor neurons number: 186\n",
            "VPL  0\n",
            "session no:  14\n",
            "motor neurons number: 0\n",
            "VPL  0\n",
            "session no:  15\n",
            "motor neurons number: 0\n",
            "VPL  0\n",
            "session no:  16\n",
            "motor neurons number: 0\n",
            "VPL  50\n",
            "session no:  17\n",
            "motor neurons number: 0\n",
            "VPL  0\n",
            "session no:  18\n",
            "motor neurons number: 0\n",
            "VPL  0\n",
            "session no:  19\n",
            "motor neurons number: 0\n",
            "VPL  0\n",
            "session no:  20\n",
            "motor neurons number: 166\n",
            "VPL  0\n",
            "session no:  21\n",
            "motor neurons number: 65\n",
            "VPL  0\n",
            "session no:  22\n",
            "motor neurons number: 0\n",
            "VPL  0\n",
            "session no:  23\n",
            "motor neurons number: 0\n",
            "VPL  0\n",
            "session no:  24\n",
            "motor neurons number: 80\n",
            "VPL  0\n",
            "session no:  25\n",
            "motor neurons number: 166\n",
            "VPL  0\n",
            "session no:  26\n",
            "motor neurons number: 97\n",
            "VPL  0\n",
            "session no:  27\n",
            "motor neurons number: 0\n",
            "VPL  0\n",
            "session no:  28\n",
            "motor neurons number: 180\n",
            "VPL  0\n",
            "session no:  29\n",
            "motor neurons number: 38\n",
            "VPL  0\n",
            "session no:  30\n",
            "motor neurons number: 281\n",
            "VPL  0\n",
            "session no:  31\n",
            "motor neurons number: 69\n",
            "VPL  0\n",
            "session no:  32\n",
            "motor neurons number: 0\n",
            "VPL  0\n",
            "session no:  33\n",
            "motor neurons number: 0\n",
            "VPL  0\n",
            "session no:  34\n",
            "motor neurons number: 34\n",
            "VPL  0\n",
            "session no:  35\n",
            "motor neurons number: 41\n",
            "VPL  0\n",
            "session no:  36\n",
            "motor neurons number: 233\n",
            "VPL  0\n",
            "session no:  37\n",
            "motor neurons number: 0\n",
            "VPL  0\n",
            "session no:  38\n",
            "motor neurons number: 54\n",
            "VPL  0\n"
          ]
        }
      ]
    },
    {
      "cell_type": "code",
      "source": [
        ""
      ],
      "metadata": {
        "id": "gxr6dHwL8cNW"
      },
      "execution_count": null,
      "outputs": []
    }
  ],
  "metadata": {
    "kernelspec": {
      "display_name": "Python 3",
      "language": "python",
      "name": "python3"
    },
    "language_info": {
      "codemirror_mode": {
        "name": "ipython",
        "version": 3
      },
      "file_extension": ".py",
      "mimetype": "text/x-python",
      "name": "python",
      "nbconvert_exporter": "python",
      "pygments_lexer": "ipython3",
      "version": "3.8.5"
    },
    "vscode": {
      "interpreter": {
        "hash": "8c1bdd6d44f6336ff0d81b15886ac8b714efa96b230f6fd11c9abbea6cb9e8c5"
      }
    },
    "colab": {
      "name": "ula.ipynb",
      "provenance": []
    },
    "widgets": {
      "application/vnd.jupyter.widget-state+json": {
        "59b50ba959e1433f994234759b05bee0": {
          "model_module": "@jupyter-widgets/controls",
          "model_name": "HBoxModel",
          "model_module_version": "1.5.0",
          "state": {
            "_dom_classes": [],
            "_model_module": "@jupyter-widgets/controls",
            "_model_module_version": "1.5.0",
            "_model_name": "HBoxModel",
            "_view_count": null,
            "_view_module": "@jupyter-widgets/controls",
            "_view_module_version": "1.5.0",
            "_view_name": "HBoxView",
            "box_style": "",
            "children": [
              "IPY_MODEL_0cc0a9ed9c1a41f6a02edc7fee301f0f",
              "IPY_MODEL_4ab38090cae54a77ad5dbc10b75ef38b",
              "IPY_MODEL_1f5c180b1ca440799ca851405cc50557"
            ],
            "layout": "IPY_MODEL_5339bf4b15154d94854d47e97374f752"
          }
        },
        "0cc0a9ed9c1a41f6a02edc7fee301f0f": {
          "model_module": "@jupyter-widgets/controls",
          "model_name": "HTMLModel",
          "model_module_version": "1.5.0",
          "state": {
            "_dom_classes": [],
            "_model_module": "@jupyter-widgets/controls",
            "_model_module_version": "1.5.0",
            "_model_name": "HTMLModel",
            "_view_count": null,
            "_view_module": "@jupyter-widgets/controls",
            "_view_module_version": "1.5.0",
            "_view_name": "HTMLView",
            "description": "",
            "description_tooltip": null,
            "layout": "IPY_MODEL_0d80ed5c8e7b46f9ba3e4b39a21034bb",
            "placeholder": "​",
            "style": "IPY_MODEL_1ce2740ae7bf4821a91f16d78d97e202",
            "value": "LP: -950277.4: 100%"
          }
        },
        "4ab38090cae54a77ad5dbc10b75ef38b": {
          "model_module": "@jupyter-widgets/controls",
          "model_name": "FloatProgressModel",
          "model_module_version": "1.5.0",
          "state": {
            "_dom_classes": [],
            "_model_module": "@jupyter-widgets/controls",
            "_model_module_version": "1.5.0",
            "_model_name": "FloatProgressModel",
            "_view_count": null,
            "_view_module": "@jupyter-widgets/controls",
            "_view_module_version": "1.5.0",
            "_view_name": "ProgressView",
            "bar_style": "success",
            "description": "",
            "description_tooltip": null,
            "layout": "IPY_MODEL_6c48fc317eeb4df8ac040c1973282aa5",
            "max": 300,
            "min": 0,
            "orientation": "horizontal",
            "style": "IPY_MODEL_901dc6b0589445b3871b672ecfe4592f",
            "value": 300
          }
        },
        "1f5c180b1ca440799ca851405cc50557": {
          "model_module": "@jupyter-widgets/controls",
          "model_name": "HTMLModel",
          "model_module_version": "1.5.0",
          "state": {
            "_dom_classes": [],
            "_model_module": "@jupyter-widgets/controls",
            "_model_module_version": "1.5.0",
            "_model_name": "HTMLModel",
            "_view_count": null,
            "_view_module": "@jupyter-widgets/controls",
            "_view_module_version": "1.5.0",
            "_view_name": "HTMLView",
            "description": "",
            "description_tooltip": null,
            "layout": "IPY_MODEL_db654cd1b63f4bb3a87fc576d37ad0bb",
            "placeholder": "​",
            "style": "IPY_MODEL_bed188eb2145482bb2799542f53d28e6",
            "value": " 300/300 [02:31&lt;00:00,  2.01it/s]"
          }
        },
        "5339bf4b15154d94854d47e97374f752": {
          "model_module": "@jupyter-widgets/base",
          "model_name": "LayoutModel",
          "model_module_version": "1.2.0",
          "state": {
            "_model_module": "@jupyter-widgets/base",
            "_model_module_version": "1.2.0",
            "_model_name": "LayoutModel",
            "_view_count": null,
            "_view_module": "@jupyter-widgets/base",
            "_view_module_version": "1.2.0",
            "_view_name": "LayoutView",
            "align_content": null,
            "align_items": null,
            "align_self": null,
            "border": null,
            "bottom": null,
            "display": null,
            "flex": null,
            "flex_flow": null,
            "grid_area": null,
            "grid_auto_columns": null,
            "grid_auto_flow": null,
            "grid_auto_rows": null,
            "grid_column": null,
            "grid_gap": null,
            "grid_row": null,
            "grid_template_areas": null,
            "grid_template_columns": null,
            "grid_template_rows": null,
            "height": null,
            "justify_content": null,
            "justify_items": null,
            "left": null,
            "margin": null,
            "max_height": null,
            "max_width": null,
            "min_height": null,
            "min_width": null,
            "object_fit": null,
            "object_position": null,
            "order": null,
            "overflow": null,
            "overflow_x": null,
            "overflow_y": null,
            "padding": null,
            "right": null,
            "top": null,
            "visibility": null,
            "width": null
          }
        },
        "0d80ed5c8e7b46f9ba3e4b39a21034bb": {
          "model_module": "@jupyter-widgets/base",
          "model_name": "LayoutModel",
          "model_module_version": "1.2.0",
          "state": {
            "_model_module": "@jupyter-widgets/base",
            "_model_module_version": "1.2.0",
            "_model_name": "LayoutModel",
            "_view_count": null,
            "_view_module": "@jupyter-widgets/base",
            "_view_module_version": "1.2.0",
            "_view_name": "LayoutView",
            "align_content": null,
            "align_items": null,
            "align_self": null,
            "border": null,
            "bottom": null,
            "display": null,
            "flex": null,
            "flex_flow": null,
            "grid_area": null,
            "grid_auto_columns": null,
            "grid_auto_flow": null,
            "grid_auto_rows": null,
            "grid_column": null,
            "grid_gap": null,
            "grid_row": null,
            "grid_template_areas": null,
            "grid_template_columns": null,
            "grid_template_rows": null,
            "height": null,
            "justify_content": null,
            "justify_items": null,
            "left": null,
            "margin": null,
            "max_height": null,
            "max_width": null,
            "min_height": null,
            "min_width": null,
            "object_fit": null,
            "object_position": null,
            "order": null,
            "overflow": null,
            "overflow_x": null,
            "overflow_y": null,
            "padding": null,
            "right": null,
            "top": null,
            "visibility": null,
            "width": null
          }
        },
        "1ce2740ae7bf4821a91f16d78d97e202": {
          "model_module": "@jupyter-widgets/controls",
          "model_name": "DescriptionStyleModel",
          "model_module_version": "1.5.0",
          "state": {
            "_model_module": "@jupyter-widgets/controls",
            "_model_module_version": "1.5.0",
            "_model_name": "DescriptionStyleModel",
            "_view_count": null,
            "_view_module": "@jupyter-widgets/base",
            "_view_module_version": "1.2.0",
            "_view_name": "StyleView",
            "description_width": ""
          }
        },
        "6c48fc317eeb4df8ac040c1973282aa5": {
          "model_module": "@jupyter-widgets/base",
          "model_name": "LayoutModel",
          "model_module_version": "1.2.0",
          "state": {
            "_model_module": "@jupyter-widgets/base",
            "_model_module_version": "1.2.0",
            "_model_name": "LayoutModel",
            "_view_count": null,
            "_view_module": "@jupyter-widgets/base",
            "_view_module_version": "1.2.0",
            "_view_name": "LayoutView",
            "align_content": null,
            "align_items": null,
            "align_self": null,
            "border": null,
            "bottom": null,
            "display": null,
            "flex": null,
            "flex_flow": null,
            "grid_area": null,
            "grid_auto_columns": null,
            "grid_auto_flow": null,
            "grid_auto_rows": null,
            "grid_column": null,
            "grid_gap": null,
            "grid_row": null,
            "grid_template_areas": null,
            "grid_template_columns": null,
            "grid_template_rows": null,
            "height": null,
            "justify_content": null,
            "justify_items": null,
            "left": null,
            "margin": null,
            "max_height": null,
            "max_width": null,
            "min_height": null,
            "min_width": null,
            "object_fit": null,
            "object_position": null,
            "order": null,
            "overflow": null,
            "overflow_x": null,
            "overflow_y": null,
            "padding": null,
            "right": null,
            "top": null,
            "visibility": null,
            "width": null
          }
        },
        "901dc6b0589445b3871b672ecfe4592f": {
          "model_module": "@jupyter-widgets/controls",
          "model_name": "ProgressStyleModel",
          "model_module_version": "1.5.0",
          "state": {
            "_model_module": "@jupyter-widgets/controls",
            "_model_module_version": "1.5.0",
            "_model_name": "ProgressStyleModel",
            "_view_count": null,
            "_view_module": "@jupyter-widgets/base",
            "_view_module_version": "1.2.0",
            "_view_name": "StyleView",
            "bar_color": null,
            "description_width": ""
          }
        },
        "db654cd1b63f4bb3a87fc576d37ad0bb": {
          "model_module": "@jupyter-widgets/base",
          "model_name": "LayoutModel",
          "model_module_version": "1.2.0",
          "state": {
            "_model_module": "@jupyter-widgets/base",
            "_model_module_version": "1.2.0",
            "_model_name": "LayoutModel",
            "_view_count": null,
            "_view_module": "@jupyter-widgets/base",
            "_view_module_version": "1.2.0",
            "_view_name": "LayoutView",
            "align_content": null,
            "align_items": null,
            "align_self": null,
            "border": null,
            "bottom": null,
            "display": null,
            "flex": null,
            "flex_flow": null,
            "grid_area": null,
            "grid_auto_columns": null,
            "grid_auto_flow": null,
            "grid_auto_rows": null,
            "grid_column": null,
            "grid_gap": null,
            "grid_row": null,
            "grid_template_areas": null,
            "grid_template_columns": null,
            "grid_template_rows": null,
            "height": null,
            "justify_content": null,
            "justify_items": null,
            "left": null,
            "margin": null,
            "max_height": null,
            "max_width": null,
            "min_height": null,
            "min_width": null,
            "object_fit": null,
            "object_position": null,
            "order": null,
            "overflow": null,
            "overflow_x": null,
            "overflow_y": null,
            "padding": null,
            "right": null,
            "top": null,
            "visibility": null,
            "width": null
          }
        },
        "bed188eb2145482bb2799542f53d28e6": {
          "model_module": "@jupyter-widgets/controls",
          "model_name": "DescriptionStyleModel",
          "model_module_version": "1.5.0",
          "state": {
            "_model_module": "@jupyter-widgets/controls",
            "_model_module_version": "1.5.0",
            "_model_name": "DescriptionStyleModel",
            "_view_count": null,
            "_view_module": "@jupyter-widgets/base",
            "_view_module_version": "1.2.0",
            "_view_name": "StyleView",
            "description_width": ""
          }
        },
        "ab877886ca2a4531b57e116a85b1e355": {
          "model_module": "@jupyter-widgets/controls",
          "model_name": "HBoxModel",
          "model_module_version": "1.5.0",
          "state": {
            "_dom_classes": [],
            "_model_module": "@jupyter-widgets/controls",
            "_model_module_version": "1.5.0",
            "_model_name": "HBoxModel",
            "_view_count": null,
            "_view_module": "@jupyter-widgets/controls",
            "_view_module_version": "1.5.0",
            "_view_name": "HBoxView",
            "box_style": "",
            "children": [
              "IPY_MODEL_134d81c4decd489e9055c6341c25ff05",
              "IPY_MODEL_34b0911172104e329bc456a11539e898",
              "IPY_MODEL_e24c27ecd1274ebeb8ebe6cf19a64888"
            ],
            "layout": "IPY_MODEL_988bf1f0604d451e9ec81daaf34a3f00"
          }
        },
        "134d81c4decd489e9055c6341c25ff05": {
          "model_module": "@jupyter-widgets/controls",
          "model_name": "HTMLModel",
          "model_module_version": "1.5.0",
          "state": {
            "_dom_classes": [],
            "_model_module": "@jupyter-widgets/controls",
            "_model_module_version": "1.5.0",
            "_model_name": "HTMLModel",
            "_view_count": null,
            "_view_module": "@jupyter-widgets/controls",
            "_view_module_version": "1.5.0",
            "_view_name": "HTMLView",
            "description": "",
            "description_tooltip": null,
            "layout": "IPY_MODEL_93490433c570496580d007b71f1f69d6",
            "placeholder": "​",
            "style": "IPY_MODEL_28c31041237d4a29843b7c7a03d8cb4d",
            "value": "LP: -287356.4: 100%"
          }
        },
        "34b0911172104e329bc456a11539e898": {
          "model_module": "@jupyter-widgets/controls",
          "model_name": "FloatProgressModel",
          "model_module_version": "1.5.0",
          "state": {
            "_dom_classes": [],
            "_model_module": "@jupyter-widgets/controls",
            "_model_module_version": "1.5.0",
            "_model_name": "FloatProgressModel",
            "_view_count": null,
            "_view_module": "@jupyter-widgets/controls",
            "_view_module_version": "1.5.0",
            "_view_name": "ProgressView",
            "bar_style": "success",
            "description": "",
            "description_tooltip": null,
            "layout": "IPY_MODEL_e6c85f429185459cb835d849ce044a62",
            "max": 300,
            "min": 0,
            "orientation": "horizontal",
            "style": "IPY_MODEL_26b52973de62423982a7ae317e1b9365",
            "value": 300
          }
        },
        "e24c27ecd1274ebeb8ebe6cf19a64888": {
          "model_module": "@jupyter-widgets/controls",
          "model_name": "HTMLModel",
          "model_module_version": "1.5.0",
          "state": {
            "_dom_classes": [],
            "_model_module": "@jupyter-widgets/controls",
            "_model_module_version": "1.5.0",
            "_model_name": "HTMLModel",
            "_view_count": null,
            "_view_module": "@jupyter-widgets/controls",
            "_view_module_version": "1.5.0",
            "_view_name": "HTMLView",
            "description": "",
            "description_tooltip": null,
            "layout": "IPY_MODEL_5d80b23fd6a14dd59a1de4b56e10e035",
            "placeholder": "​",
            "style": "IPY_MODEL_555fcebc368d4f9db5133d5532b9ccc6",
            "value": " 300/300 [01:45&lt;00:00,  2.87it/s]"
          }
        },
        "988bf1f0604d451e9ec81daaf34a3f00": {
          "model_module": "@jupyter-widgets/base",
          "model_name": "LayoutModel",
          "model_module_version": "1.2.0",
          "state": {
            "_model_module": "@jupyter-widgets/base",
            "_model_module_version": "1.2.0",
            "_model_name": "LayoutModel",
            "_view_count": null,
            "_view_module": "@jupyter-widgets/base",
            "_view_module_version": "1.2.0",
            "_view_name": "LayoutView",
            "align_content": null,
            "align_items": null,
            "align_self": null,
            "border": null,
            "bottom": null,
            "display": null,
            "flex": null,
            "flex_flow": null,
            "grid_area": null,
            "grid_auto_columns": null,
            "grid_auto_flow": null,
            "grid_auto_rows": null,
            "grid_column": null,
            "grid_gap": null,
            "grid_row": null,
            "grid_template_areas": null,
            "grid_template_columns": null,
            "grid_template_rows": null,
            "height": null,
            "justify_content": null,
            "justify_items": null,
            "left": null,
            "margin": null,
            "max_height": null,
            "max_width": null,
            "min_height": null,
            "min_width": null,
            "object_fit": null,
            "object_position": null,
            "order": null,
            "overflow": null,
            "overflow_x": null,
            "overflow_y": null,
            "padding": null,
            "right": null,
            "top": null,
            "visibility": null,
            "width": null
          }
        },
        "93490433c570496580d007b71f1f69d6": {
          "model_module": "@jupyter-widgets/base",
          "model_name": "LayoutModel",
          "model_module_version": "1.2.0",
          "state": {
            "_model_module": "@jupyter-widgets/base",
            "_model_module_version": "1.2.0",
            "_model_name": "LayoutModel",
            "_view_count": null,
            "_view_module": "@jupyter-widgets/base",
            "_view_module_version": "1.2.0",
            "_view_name": "LayoutView",
            "align_content": null,
            "align_items": null,
            "align_self": null,
            "border": null,
            "bottom": null,
            "display": null,
            "flex": null,
            "flex_flow": null,
            "grid_area": null,
            "grid_auto_columns": null,
            "grid_auto_flow": null,
            "grid_auto_rows": null,
            "grid_column": null,
            "grid_gap": null,
            "grid_row": null,
            "grid_template_areas": null,
            "grid_template_columns": null,
            "grid_template_rows": null,
            "height": null,
            "justify_content": null,
            "justify_items": null,
            "left": null,
            "margin": null,
            "max_height": null,
            "max_width": null,
            "min_height": null,
            "min_width": null,
            "object_fit": null,
            "object_position": null,
            "order": null,
            "overflow": null,
            "overflow_x": null,
            "overflow_y": null,
            "padding": null,
            "right": null,
            "top": null,
            "visibility": null,
            "width": null
          }
        },
        "28c31041237d4a29843b7c7a03d8cb4d": {
          "model_module": "@jupyter-widgets/controls",
          "model_name": "DescriptionStyleModel",
          "model_module_version": "1.5.0",
          "state": {
            "_model_module": "@jupyter-widgets/controls",
            "_model_module_version": "1.5.0",
            "_model_name": "DescriptionStyleModel",
            "_view_count": null,
            "_view_module": "@jupyter-widgets/base",
            "_view_module_version": "1.2.0",
            "_view_name": "StyleView",
            "description_width": ""
          }
        },
        "e6c85f429185459cb835d849ce044a62": {
          "model_module": "@jupyter-widgets/base",
          "model_name": "LayoutModel",
          "model_module_version": "1.2.0",
          "state": {
            "_model_module": "@jupyter-widgets/base",
            "_model_module_version": "1.2.0",
            "_model_name": "LayoutModel",
            "_view_count": null,
            "_view_module": "@jupyter-widgets/base",
            "_view_module_version": "1.2.0",
            "_view_name": "LayoutView",
            "align_content": null,
            "align_items": null,
            "align_self": null,
            "border": null,
            "bottom": null,
            "display": null,
            "flex": null,
            "flex_flow": null,
            "grid_area": null,
            "grid_auto_columns": null,
            "grid_auto_flow": null,
            "grid_auto_rows": null,
            "grid_column": null,
            "grid_gap": null,
            "grid_row": null,
            "grid_template_areas": null,
            "grid_template_columns": null,
            "grid_template_rows": null,
            "height": null,
            "justify_content": null,
            "justify_items": null,
            "left": null,
            "margin": null,
            "max_height": null,
            "max_width": null,
            "min_height": null,
            "min_width": null,
            "object_fit": null,
            "object_position": null,
            "order": null,
            "overflow": null,
            "overflow_x": null,
            "overflow_y": null,
            "padding": null,
            "right": null,
            "top": null,
            "visibility": null,
            "width": null
          }
        },
        "26b52973de62423982a7ae317e1b9365": {
          "model_module": "@jupyter-widgets/controls",
          "model_name": "ProgressStyleModel",
          "model_module_version": "1.5.0",
          "state": {
            "_model_module": "@jupyter-widgets/controls",
            "_model_module_version": "1.5.0",
            "_model_name": "ProgressStyleModel",
            "_view_count": null,
            "_view_module": "@jupyter-widgets/base",
            "_view_module_version": "1.2.0",
            "_view_name": "StyleView",
            "bar_color": null,
            "description_width": ""
          }
        },
        "5d80b23fd6a14dd59a1de4b56e10e035": {
          "model_module": "@jupyter-widgets/base",
          "model_name": "LayoutModel",
          "model_module_version": "1.2.0",
          "state": {
            "_model_module": "@jupyter-widgets/base",
            "_model_module_version": "1.2.0",
            "_model_name": "LayoutModel",
            "_view_count": null,
            "_view_module": "@jupyter-widgets/base",
            "_view_module_version": "1.2.0",
            "_view_name": "LayoutView",
            "align_content": null,
            "align_items": null,
            "align_self": null,
            "border": null,
            "bottom": null,
            "display": null,
            "flex": null,
            "flex_flow": null,
            "grid_area": null,
            "grid_auto_columns": null,
            "grid_auto_flow": null,
            "grid_auto_rows": null,
            "grid_column": null,
            "grid_gap": null,
            "grid_row": null,
            "grid_template_areas": null,
            "grid_template_columns": null,
            "grid_template_rows": null,
            "height": null,
            "justify_content": null,
            "justify_items": null,
            "left": null,
            "margin": null,
            "max_height": null,
            "max_width": null,
            "min_height": null,
            "min_width": null,
            "object_fit": null,
            "object_position": null,
            "order": null,
            "overflow": null,
            "overflow_x": null,
            "overflow_y": null,
            "padding": null,
            "right": null,
            "top": null,
            "visibility": null,
            "width": null
          }
        },
        "555fcebc368d4f9db5133d5532b9ccc6": {
          "model_module": "@jupyter-widgets/controls",
          "model_name": "DescriptionStyleModel",
          "model_module_version": "1.5.0",
          "state": {
            "_model_module": "@jupyter-widgets/controls",
            "_model_module_version": "1.5.0",
            "_model_name": "DescriptionStyleModel",
            "_view_count": null,
            "_view_module": "@jupyter-widgets/base",
            "_view_module_version": "1.2.0",
            "_view_name": "StyleView",
            "description_width": ""
          }
        }
      }
    }
  },
  "nbformat": 4,
  "nbformat_minor": 0
}